{
 "cells": [
  {
   "cell_type": "code",
   "execution_count": 28,
   "metadata": {
    "collapsed": false
   },
   "outputs": [],
   "source": [
    "import pymongo\n",
    "from pymongo import MongoClient\n",
    "import text_analysis.dbutil as db\n",
    "import text_analysis.fileutil as file\n",
    "import csv\n",
    "from konlpy.tag import Hannanum\n",
    "from collections import Counter\n",
    "\n",
    "# pathname\n",
    "path = 'data/livetalk.csv'\n",
    "\n",
    "# get csv data from local\n",
    "# json = file.get_csv_data(path,'BLTTHG_CNTNT')\n",
    "with open(path) as csvfile:\n",
    "    reader = csv.DictReader(csvfile)\n",
    "    content = ''\n",
    "    for line in reader:\n",
    "        content += ' ' + line['BLTTHG_CNTNT']\n",
    "    # print(content)\n",
    "    \n",
    "    h = Hannanum()\n",
    "    nouns = h.nouns(content)\n",
    "    c = Counter(nouns)\n",
    "    "
   ]
  },
  {
   "cell_type": "code",
   "execution_count": 27,
   "metadata": {
    "collapsed": false
   },
   "outputs": [],
   "source": [
    "#create MongoClient\n",
    "client = MongoClient('localhost',27017)\n",
    "\n",
    "db = client.local\n",
    "\n",
    "tbl = db.wordcount\n",
    "\n",
    "#tbl.insert_one()\n",
    "for word,cnt in c.most_common(50):\n",
    "    #print(word,cnt)\n",
    "    tbl.insert_one({word:cnt})"
   ]
  }
 ],
 "metadata": {
  "kernelspec": {
   "display_name": "Python 3",
   "language": "python",
   "name": "python3"
  },
  "language_info": {
   "codemirror_mode": {
    "name": "ipython",
    "version": 3
   },
   "file_extension": ".py",
   "mimetype": "text/x-python",
   "name": "python",
   "nbconvert_exporter": "python",
   "pygments_lexer": "ipython3",
   "version": "3.4.3"
  }
 },
 "nbformat": 4,
 "nbformat_minor": 0
}
